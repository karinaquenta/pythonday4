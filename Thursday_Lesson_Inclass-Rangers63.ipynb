{
 "cells": [
  {
   "cell_type": "markdown",
   "metadata": {},
   "source": [
    "# Object-Oriented-Programming (OOP)"
   ]
  },
  {
   "cell_type": "markdown",
   "metadata": {},
   "source": [
    "## Tasks Today:\n",
    "\n",
    "   \n",
    "\n",
    "1) <b>Creating a Class (Initializing/Declaring)</b> <br>\n",
    "2) <b>Using a Class (Instantiating)</b> <br>\n",
    " &nbsp;&nbsp;&nbsp;&nbsp; a) Creating One Instance <br>\n",
    " &nbsp;&nbsp;&nbsp;&nbsp; b) Creating Multiple Instances <br>\n",
    " &nbsp;&nbsp;&nbsp;&nbsp; c) In-Class Exercise #1 - Create a Class 'Car' and instantiate three different makes of cars <br>\n",
    "3) <b>The \\__init\\__() Method</b> <br>\n",
    " &nbsp;&nbsp;&nbsp;&nbsp; a) The 'self' Attribute <br>\n",
    "4) <b>Class Attributes</b> <br>\n",
    " &nbsp;&nbsp;&nbsp;&nbsp; a) Initializing Attributes <br>\n",
    " &nbsp;&nbsp;&nbsp;&nbsp; b) Setting an Attribute Outside of the \\__init\\__() Method <br>\n",
    " &nbsp;&nbsp;&nbsp;&nbsp; c) Setting Defaults for Attributes <br>\n",
    " &nbsp;&nbsp;&nbsp;&nbsp; d) Accessing Class Attributes <br>\n",
    " &nbsp;&nbsp;&nbsp;&nbsp; e) Changing Class Attributes <br>\n",
    " &nbsp;&nbsp;&nbsp;&nbsp; f) In-Class Exercise #2 - Add a color and wheels attribute to your 'Car' class <br>\n",
    "5) <b>Class Methods</b> <br>\n",
    " &nbsp;&nbsp;&nbsp;&nbsp; a) Creating <br>\n",
    " &nbsp;&nbsp;&nbsp;&nbsp; b) Calling <br>\n",
    " &nbsp;&nbsp;&nbsp;&nbsp; c) Modifying an Attribute's Value Through a Method <br>\n",
    " &nbsp;&nbsp;&nbsp;&nbsp; d) Incrementing an Attribute's Value Through a Method <br>\n",
    " &nbsp;&nbsp;&nbsp;&nbsp; e) In-Class Exercise #3 - Add a method that prints the cars color and wheel number, then call them <br>\n",
    "6) <b>Inheritance</b> <br>\n",
    " &nbsp;&nbsp;&nbsp;&nbsp; a) Syntax for Inheriting from a Parent Class <br>\n",
    " &nbsp;&nbsp;&nbsp;&nbsp; b) The \\__init\\__() Method for a Child Class (super()) <br>\n",
    " &nbsp;&nbsp;&nbsp;&nbsp; c) Defining Attributes and Methods for the Child Class <br>\n",
    " &nbsp;&nbsp;&nbsp;&nbsp; d) Method Overriding <br>\n",
    " &nbsp;&nbsp;&nbsp;&nbsp; e) In-Class Exercise #4 - Create a class 'Ford' that inherits from 'Car' class and initialize it as a Blue Ford Explorer with 4 wheels using the super() method <br>\n",
    "7) <b>Classes as Attributes</b> <br>\n",
    "8) <b>Exercises</b> <br>\n",
    " &nbsp;&nbsp;&nbsp;&nbsp; a) Exercise #1 - Turn the shopping cart program from yesterday into an object-oriented program <br>"
   ]
  },
  {
   "cell_type": "markdown",
   "metadata": {},
   "source": [
    "## Creating a Class (Initializing/Declaring)\n",
    "<p>When creating a class, function, or even a variable you are initializing that object. Initializing and Declaring occur at the same time in Python, whereas in lower level languages you have to declare an object before initializing it. This is the first step in the process of using a class.</p>"
   ]
  },
  {
   "cell_type": "code",
   "execution_count": 2,
   "metadata": {},
   "outputs": [],
   "source": [
    "#keyword class\n",
    "#name class with capital letters\n",
    "# () is optional with or without\n",
    "# we have 2 class attributes in the below ex\n",
    "\n",
    "class Car():\n",
    "    wheels = 4\n",
    "    color = 'blue'"
   ]
  },
  {
   "cell_type": "code",
   "execution_count": 7,
   "metadata": {},
   "outputs": [],
   "source": [
    "#optional parentheses\n",
    "class Agent:\n",
    "    name = 'Smith'\n",
    "    glasses = 'black'"
   ]
  },
  {
   "cell_type": "markdown",
   "metadata": {},
   "source": [
    "## Using a Class (Instantiating)\n",
    "<p>The process of creating a class is called <i>Instantiating</i>. Each time you create a variable of that type of class, it is referred to as an <i>Instance</i> of that class. This is the second step in the process of using a class.</p>"
   ]
  },
  {
   "cell_type": "markdown",
   "metadata": {},
   "source": [
    "##### Creating One Instance"
   ]
  },
  {
   "cell_type": "code",
   "execution_count": 3,
   "metadata": {},
   "outputs": [
    {
     "name": "stdout",
     "output_type": "stream",
     "text": [
      "<__main__.Car object at 0x7fcc68533370>\n"
     ]
    }
   ],
   "source": [
    "ford = Car()\n",
    "print(ford)"
   ]
  },
  {
   "cell_type": "code",
   "execution_count": 8,
   "metadata": {},
   "outputs": [],
   "source": [
    "new_agent = Agent()"
   ]
  },
  {
   "cell_type": "markdown",
   "metadata": {},
   "source": [
    "##### Creating Multiple Instances"
   ]
  },
  {
   "cell_type": "code",
   "execution_count": 6,
   "metadata": {},
   "outputs": [
    {
     "data": {
      "text/plain": [
       "4"
      ]
     },
     "execution_count": 6,
     "metadata": {},
     "output_type": "execute_result"
    }
   ],
   "source": [
    "#creating an instance\n",
    "chevy = Car()\n",
    "honda = Car()\n",
    "porsche = Car()\n",
    "\n",
    "#outputting class attributes\n",
    "porsche.color\n",
    "chevy.wheels"
   ]
  },
  {
   "cell_type": "code",
   "execution_count": 9,
   "metadata": {},
   "outputs": [
    {
     "data": {
      "text/plain": [
       "'Smith'"
      ]
     },
     "execution_count": 9,
     "metadata": {},
     "output_type": "execute_result"
    }
   ],
   "source": [
    "#instances\n",
    "agent_1 = Agent()\n",
    "agent_2 = Agent()\n",
    "agent_3 = Agent()\n",
    "\n",
    "agent_2.name"
   ]
  },
  {
   "cell_type": "markdown",
   "metadata": {},
   "source": [
    "##### In-Class Exercise #1 - Create a Class 'Car' and Instantiate three different makes of cars"
   ]
  },
  {
   "cell_type": "code",
   "execution_count": 10,
   "metadata": {},
   "outputs": [
    {
     "name": "stdout",
     "output_type": "stream",
     "text": [
      "4\n"
     ]
    }
   ],
   "source": [
    "class Car():\n",
    "    wheels = 4 #class attribute is the same cuz all cars have wheels\n",
    "    steering = '4-wheel'\n",
    "    \n",
    "mercedes = Car()\n",
    "bmw = Car()\n",
    "porsche = Car()\n",
    "    \n",
    "print(mercedes.wheels)"
   ]
  },
  {
   "cell_type": "code",
   "execution_count": 1,
   "metadata": {},
   "outputs": [
    {
     "ename": "NameError",
     "evalue": "name 'mercedes' is not defined",
     "output_type": "error",
     "traceback": [
      "\u001b[0;31m---------------------------------------------------------------------------\u001b[0m",
      "\u001b[0;31mNameError\u001b[0m                                 Traceback (most recent call last)",
      "Cell \u001b[0;32mIn[1], line 1\u001b[0m\n\u001b[0;32m----> 1\u001b[0m \u001b[43mmercedes\u001b[49m\u001b[38;5;241m.\u001b[39mwheels \u001b[38;5;241m=\u001b[39m \u001b[38;5;124m'\u001b[39m\u001b[38;5;124m3\u001b[39m\u001b[38;5;124m'\u001b[39m\n",
      "\u001b[0;31mNameError\u001b[0m: name 'mercedes' is not defined"
     ]
    }
   ],
   "source": [
    "mercedes.wheels = '3'"
   ]
  },
  {
   "cell_type": "code",
   "execution_count": 5,
   "metadata": {},
   "outputs": [
    {
     "name": "stdout",
     "output_type": "stream",
     "text": [
      "4\n",
      "honda\n",
      "fit\n"
     ]
    },
    {
     "data": {
      "text/plain": [
       "4"
      ]
     },
     "execution_count": 5,
     "metadata": {},
     "output_type": "execute_result"
    }
   ],
   "source": [
    "#wheels in an attribute\n",
    "\n",
    "class Car():\n",
    "    wheels = 4\n",
    "    \n",
    "    def __init__(self, color, make, model):#assign attributes to instance attribute\n",
    "        self.color = color\n",
    "        self.make = make\n",
    "        self.model = model\n",
    "        \n",
    "new_car = Car('white', 'honda', 'fit')        \n",
    "print(new_car.wheels)\n",
    "print(new_car.make)\n",
    "print(new_car.model)\n",
    "#class attribute can be accessed by class, but not instance attribute\n",
    "Car.wheels"
   ]
  },
  {
   "cell_type": "code",
   "execution_count": 7,
   "metadata": {},
   "outputs": [
    {
     "name": "stdout",
     "output_type": "stream",
     "text": [
      "<__main__.Car object at 0x7faaf8349810>\n"
     ]
    }
   ],
   "source": [
    "car_2 = Car('Teal','Chevy', 'Cruz',)\n",
    "print(car_2)"
   ]
  },
  {
   "cell_type": "markdown",
   "metadata": {},
   "source": [
    "## The \\__init\\__() Method <br>\n",
    "<p>This method is used in almost every created class, and called only once upon the creation of the class instance. This method will initialize all variables needed for the object.</p>"
   ]
  },
  {
   "cell_type": "code",
   "execution_count": null,
   "metadata": {},
   "outputs": [],
   "source": [
    "class Car():\n",
    "    wheels = 4\n",
    "    \n",
    "    def __init__(self, color, make, model):#assign attributes to instance attribute\n",
    "        self.color = color\n",
    "        self.make = make\n",
    "        self.model = model\n",
    "        \n",
    "new_car = Car('white', 'honda', 'fit')        \n",
    "print(new_car.wheels)\n",
    "print(new_car.make)\n",
    "print(new_car.model)\n",
    "#class attribute can be accessed by class, but not instance attribute\n",
    "Car.wheels"
   ]
  },
  {
   "cell_type": "code",
   "execution_count": 2,
   "metadata": {},
   "outputs": [
    {
     "data": {
      "text/plain": [
       "True"
      ]
     },
     "execution_count": 2,
     "metadata": {},
     "output_type": "execute_result"
    }
   ],
   "source": [
    "class Agent:\n",
    "    name = 'Smith'\n",
    "    glasses = 'black'\n",
    "    \n",
    "    def __init__(self, person_overwritten, weapon, in_matrix = True):\n",
    "        self.person_overwritten = person_overwritten\n",
    "        self.weapon = weapon\n",
    "        self.in_matrix = in_matrix\n",
    "        \n",
    "new_agent = Agent('Bob','Dessert Eagle')\n",
    "\n",
    "new_agent.in_matrix"
   ]
  },
  {
   "cell_type": "markdown",
   "metadata": {},
   "source": [
    "##### The 'self' Attribute <br>\n",
    "<p>This attribute is required to keep track of specific instance's attributes. Without the self attribute, the program would not know how to reference or keep track of an instance's attributes.</p>"
   ]
  },
  {
   "cell_type": "code",
   "execution_count": null,
   "metadata": {},
   "outputs": [],
   "source": [
    "# see above"
   ]
  },
  {
   "cell_type": "markdown",
   "metadata": {},
   "source": [
    "## Class Attributes <br>\n",
    "<p>While variables are inside of a class, they are referred to as attributes and not variables. When someone says 'attribute' you know they're speaking about a class. Attributes can be initialized through the init method, or outside of it.</p>"
   ]
  },
  {
   "cell_type": "markdown",
   "metadata": {},
   "source": [
    "##### Initializing Attributes"
   ]
  },
  {
   "cell_type": "code",
   "execution_count": null,
   "metadata": {},
   "outputs": [],
   "source": [
    "# see above"
   ]
  },
  {
   "cell_type": "markdown",
   "metadata": {},
   "source": [
    "##### Accessing Class Attributes"
   ]
  },
  {
   "cell_type": "code",
   "execution_count": 5,
   "metadata": {
    "scrolled": true
   },
   "outputs": [
    {
     "data": {
      "text/plain": [
       "'Smith'"
      ]
     },
     "execution_count": 5,
     "metadata": {},
     "output_type": "execute_result"
    }
   ],
   "source": [
    "# See Above\n",
    "#aatribute error stored as a 0_overwtiten\n",
    "#new_agent.person_overwitten\n",
    "\n",
    "new_agent.person_overwritten\n",
    "\n",
    "Agent.name"
   ]
  },
  {
   "cell_type": "markdown",
   "metadata": {},
   "source": [
    "##### Setting Defaults for Attributes"
   ]
  },
  {
   "cell_type": "code",
   "execution_count": 7,
   "metadata": {},
   "outputs": [
    {
     "data": {
      "text/plain": [
       "True"
      ]
     },
     "execution_count": 7,
     "metadata": {},
     "output_type": "execute_result"
    }
   ],
   "source": [
    "class Agent:\n",
    "    name = 'Smith'\n",
    "    glasses = 'black'\n",
    "    #with default value not requiring argument when creating instance\n",
    "    def __init__(self, person_overwritten, weapon, in_matrix = True):\n",
    "        self.person_overwritten = person_overwritten\n",
    "        self.weapon = weapon\n",
    "        self.in_matrix = in_matrix\n",
    "        \n",
    "new_agent = Agent('Joe', 'Dessert Eagle')\n",
    "\n",
    "new_agent.in_matrix"
   ]
  },
  {
   "cell_type": "markdown",
   "metadata": {},
   "source": [
    "##### Changing Class Attributes <br>\n",
    "<p>Keep in mind there are global class attributes and then there are attributes only available to each class instance which won't effect other classes.</p>"
   ]
  },
  {
   "cell_type": "code",
   "execution_count": 8,
   "metadata": {},
   "outputs": [
    {
     "name": "stdout",
     "output_type": "stream",
     "text": [
      "Smith\n",
      "Brown  after change\n"
     ]
    }
   ],
   "source": [
    "#overwitting global variable\n",
    "\n",
    "print(new_agent.name)\n",
    "new_agent.name = \"Brown\"\n",
    "print(new_agent.name, ' after change')"
   ]
  },
  {
   "cell_type": "code",
   "execution_count": 10,
   "metadata": {},
   "outputs": [
    {
     "name": "stdout",
     "output_type": "stream",
     "text": [
      "Joe  before\n",
      "Joe  after\n"
     ]
    }
   ],
   "source": [
    "print(new_agent.person_overwritten, ' before')\n",
    "new_agent.p_overwritten = 'Bill'\n",
    "print(new_agent.person_overwritten, ' after')"
   ]
  },
  {
   "cell_type": "markdown",
   "metadata": {},
   "source": [
    "##### In-Class Exercise #2 - Add a doors and seats attribute to your 'Car' class then print out two different instances with different doors and seats"
   ]
  },
  {
   "cell_type": "code",
   "execution_count": 13,
   "metadata": {},
   "outputs": [],
   "source": [
    "class Car():\n",
    "    wheels = 4 #class attribute is the same cuz all cars have wheels\n",
    "    steering = '4-wheel'\n",
    "    doors = 6\n",
    "    seats = 8\n",
    "    \n",
    "    def __init__(self, wheels, steering, doors, seats):#assign attributes to instance attribute\n",
    "        self.wheels = wheels\n",
    "        self.steering = steering\n",
    "        self.model = doors\n",
    "        self.seats = seats\n",
    "    \n",
    "mercedes = Car('4','4-wheel', '2', '7')\n",
    "bmw = Car('5','5-wheel', '3', '8')\n",
    "porsche = Car('6','5-wheel', '4', '9')\n",
    "    \n",
    "#print(mercedes.wheels)\n",
    "new_car = Car('4','4-wheel', '2', '7')\n",
    "new_car.doors = '10'"
   ]
  },
  {
   "cell_type": "markdown",
   "metadata": {},
   "source": [
    "## Class Methods <br>\n",
    "<p>While inside of a class, functions are referred to as 'methods'. If you hear someone mention methods, they're speaking about classes. Methods are essentially functions, but only callable on the instances of a class.</p>"
   ]
  },
  {
   "cell_type": "markdown",
   "metadata": {},
   "source": [
    "##### Creating"
   ]
  },
  {
   "cell_type": "code",
   "execution_count": 9,
   "metadata": {},
   "outputs": [
    {
     "name": "stdout",
     "output_type": "stream",
     "text": [
      "red pill down the rabbit hole, blue pill believe whatever you likered\n",
      "Are you ready for training?yes\n"
     ]
    },
    {
     "ename": "AttributeError",
     "evalue": "'Human_Matrix_Universe' object has no attribute 'get'",
     "output_type": "error",
     "traceback": [
      "\u001b[0;31m---------------------------------------------------------------------------\u001b[0m",
      "\u001b[0;31mAttributeError\u001b[0m                            Traceback (most recent call last)",
      "Cell \u001b[0;32mIn[9], line 62\u001b[0m\n\u001b[1;32m     58\u001b[0m             \u001b[38;5;28mself\u001b[39m\u001b[38;5;241m.\u001b[39mpill_decision(pill)\n\u001b[1;32m     60\u001b[0m new_human \u001b[38;5;241m=\u001b[39m Human_Matrix_Universe(\u001b[38;5;124m'\u001b[39m\u001b[38;5;124mTank\u001b[39m\u001b[38;5;124m'\u001b[39m, [\u001b[38;5;124m\"\u001b[39m\u001b[38;5;124mKickboxing\u001b[39m\u001b[38;5;124m\"\u001b[39m])\n\u001b[0;32m---> 62\u001b[0m \u001b[43mnew_human\u001b[49m\u001b[38;5;241;43m.\u001b[39;49m\u001b[43mdriver\u001b[49m\u001b[43m(\u001b[49m\u001b[43m)\u001b[49m\n",
      "Cell \u001b[0;32mIn[9], line 53\u001b[0m, in \u001b[0;36mHuman_Matrix_Universe.driver\u001b[0;34m(self)\u001b[0m\n\u001b[1;32m     51\u001b[0m res \u001b[38;5;241m=\u001b[39m \u001b[38;5;28minput\u001b[39m(\u001b[38;5;124m\"\u001b[39m\u001b[38;5;124mAre you ready for training?\u001b[39m\u001b[38;5;124m\"\u001b[39m)\n\u001b[1;32m     52\u001b[0m \u001b[38;5;28;01mif\u001b[39;00m res \u001b[38;5;241m==\u001b[39m \u001b[38;5;124m'\u001b[39m\u001b[38;5;124myes\u001b[39m\u001b[38;5;124m'\u001b[39m:\n\u001b[0;32m---> 53\u001b[0m     \u001b[38;5;28;43mself\u001b[39;49m\u001b[38;5;241;43m.\u001b[39;49m\u001b[43mget\u001b[49m\u001b[38;5;241m.\u001b[39mtraining()\n\u001b[1;32m     54\u001b[0m \u001b[38;5;28mself\u001b[39m\u001b[38;5;241m.\u001b[39menter_matrix()\n\u001b[1;32m     55\u001b[0m \u001b[38;5;28mself\u001b[39m\u001b[38;5;241m.\u001b[39mdodge_bullets()\n",
      "\u001b[0;31mAttributeError\u001b[0m: 'Human_Matrix_Universe' object has no attribute 'get'"
     ]
    }
   ],
   "source": [
    "class Human_Matrix_Universe:\n",
    "    \n",
    "    '''\n",
    "        A class with methods to wake up , get training, enter matrix, battle agents, leave matrix,\n",
    "        decide to stay class attributes:\n",
    "            name, fighting styles (list), awake\n",
    "    '''\n",
    "    \n",
    "    def __init__(self, name, fighting_styles=[], awake=False):\n",
    "        self.name = name\n",
    "        self.fighting_styles = fighting_styles\n",
    "        self.awake = awake\n",
    "        self.location = 1\n",
    "        \n",
    "    def pill_decision(self, pill):\n",
    "        if pill == 'red':\n",
    "            self.awake = True\n",
    "        else:\n",
    "            self.awake = False\n",
    "            print('Stays hooked to the machine')\n",
    "    \n",
    "    def get_training(self):\n",
    "        self.fighting_styles += ['kung fu', 'taekwando', 'aikado', 'drunken monkey', 'winghun']\n",
    "        print(f'\\n You know {self.fighting_styles}')\n",
    "    \n",
    "    \n",
    "#Dynamically adjust class attribute\n",
    "    \n",
    "    def specific_training(self, fighting_style):\n",
    "        self.fighting_styles.append(fighting_style)\n",
    "        print(f'\\n You know {fightint_style}')\n",
    "    \n",
    "    def enter_matrix(self):\n",
    "        print('\\n Plug in, Enter the Matrix')\n",
    "        self.location = 1\n",
    "    \n",
    "    def exit_matrix(self):\n",
    "        print('\\n Pick up the phone, Exit the Matrix')\n",
    "        self.location = 0\n",
    "    \n",
    "    def dodge_bullets(self):\n",
    "        if self.location and self.awake:\n",
    "            print('Agents are coming, slow down time, do crazy backbends')\n",
    "        else:\n",
    "            print('Run')\n",
    "    \n",
    "    def driver(self):\n",
    "        pill = input('red pill down the rabbit hole, blue pill believe whatever you like').lower()\n",
    "        self.pill_decision(pill)\n",
    "        while self.awake:\n",
    "            res = input(\"Are you ready for training?\")\n",
    "            if res == 'yes':\n",
    "                self.get.training()\n",
    "            self.enter_matrix()\n",
    "            self.dodge_bullets()\n",
    "            self.exit_matrix()\n",
    "            pill = input('red pill down the rabbit hole, blue pill believe whatever you like').lower() #driver method\n",
    "            self.pill_decision(pill)\n",
    "\n",
    "new_human = Human_Matrix_Universe('Tank', [\"Kickboxing\"])\n",
    "\n",
    "new_human.driver()\n",
    "#Ask about pill\n"
   ]
  },
  {
   "cell_type": "markdown",
   "metadata": {},
   "source": [
    "##### Calling"
   ]
  },
  {
   "cell_type": "code",
   "execution_count": null,
   "metadata": {},
   "outputs": [],
   "source": [
    "neo = Human_Matrix_Universe('Neo')\n",
    "neo.name\n",
    "\n",
    "\n",
    "#attribute beofre methos\n",
    "print(neo.awake)\n",
    "\n",
    "#modify class attribute\n",
    "neo.pill_decision('red')\n",
    "#after method\n",
    "neo.awake\n",
    "\n",
    "neo.dodge_bullets()"
   ]
  },
  {
   "cell_type": "code",
   "execution_count": null,
   "metadata": {},
   "outputs": [],
   "source": []
  },
  {
   "cell_type": "markdown",
   "metadata": {},
   "source": [
    "##### Modifying an Attribute's Value Through a Method"
   ]
  },
  {
   "cell_type": "code",
   "execution_count": null,
   "metadata": {},
   "outputs": [],
   "source": [
    "#see above\n",
    "\n",
    "#before\n",
    "\n",
    "neo.fighting_styles\n",
    "\n",
    "\n",
    "neo.specific_training('boxing')\n",
    "\n",
    "print(neo.fighting_styles)"
   ]
  },
  {
   "cell_type": "code",
   "execution_count": 14,
   "metadata": {},
   "outputs": [
    {
     "name": "stdout",
     "output_type": "stream",
     "text": [
      "black\n"
     ]
    }
   ],
   "source": [
    "#example added attribute w/ seattr9<object>, <attribute>, <value>)\n",
    "setattr(neo, \"glasses\", \"black\")\n",
    "\n",
    "print(neo.glasses)"
   ]
  },
  {
   "cell_type": "markdown",
   "metadata": {},
   "source": [
    "##### Incrementing an Attribute's Value Through a Method"
   ]
  },
  {
   "cell_type": "code",
   "execution_count": null,
   "metadata": {},
   "outputs": [],
   "source": []
  },
  {
   "cell_type": "markdown",
   "metadata": {},
   "source": [
    "##### In-Class Exercise #3 - Add a method that takes in three parameters of year, doors and seats and prints out a formatted print statement with make, model, year, seats, and doors"
   ]
  },
  {
   "cell_type": "code",
   "execution_count": 13,
   "metadata": {},
   "outputs": [
    {
     "name": "stdout",
     "output_type": "stream",
     "text": [
      "The car is a 2019 Ford Explorer with 4 doors and 5 seats\n"
     ]
    }
   ],
   "source": [
    "# Create class with 2 paramters inside of the __init__ which are make and model\n",
    "\n",
    "# Inside of the Car class create a method that has 4 parameter in total (self,year,door,seats)\n",
    "\n",
    "# Output: This car is from 2019 and is a Ford Expolorer and has 4 doors and 5 seats\n",
    "\n",
    "class Car():\n",
    "    \n",
    "    def __init__(self, make, model):\n",
    "        self.make = make\n",
    "        self.model = model\n",
    "    def car_details(self, year, doors, seats):\n",
    "        self.year = year\n",
    "        self.doors = doors\n",
    "        self.seats = seats\n",
    "        print(f'The car is a {self.year} {self.make} {self.model} with {self.doors} doors and {self.seats} seats')\n",
    "        \n",
    "car_1 = Car('Ford', 'Explorer')\n",
    "car_1.car_details(2019,4,5)\n",
    "\n"
   ]
  },
  {
   "cell_type": "markdown",
   "metadata": {},
   "source": [
    "## Inheritance <br>\n",
    "<p>You can create a child-parent relationship between two classes by using inheritance. What this allows you to do is have overriding methods, but also inherit traits from the parent class. Think of it as an actual parent and child, the child will inherit the parent's genes, as will the classes in OOP</p>"
   ]
  },
  {
   "cell_type": "markdown",
   "metadata": {},
   "source": [
    "##### Syntax for Inheriting from a Parent Class"
   ]
  },
  {
   "cell_type": "code",
   "execution_count": 5,
   "metadata": {},
   "outputs": [
    {
     "name": "stdout",
     "output_type": "stream",
     "text": [
      "I am a human.\n",
      "Aragorn Fighter dummy_stats\n"
     ]
    }
   ],
   "source": [
    "#Inheritance : Classes can have Parent Classes.Child Classes then inherit all the behavior and attributes of the \n",
    "#parent class.Child classes can choose to overwrite attributes if necessary\n",
    "#when we inherit, use parentheses\n",
    "\n",
    "class Fantasy_Character:\n",
    "    speed = 10\n",
    "    \n",
    "    def __init__(self, name, fantasy_class, stats):\n",
    "        self.name = name\n",
    "        self.fantasy_class = fantasy_class\n",
    "        self.stats = stats\n",
    "        \n",
    "    def display_character(self):\n",
    "        print(f'{self.name} {self.fantasy_class} {self.stats}')\n",
    "        \n",
    "#creating child w/o overriding init              \n",
    "class Human(Fantasy_Character):\n",
    "    size = 'medium'\n",
    "    \n",
    "    def display_fantasy_race(self):\n",
    "        print(\"I am a human.\")\n",
    "              \n",
    "dummy_stats= {\n",
    "    'strength' :10,\n",
    "    'dexterity': 10\n",
    "}              \n",
    " \n",
    "new_human = Human('Aragorn', \"Fighter\", \"dummy_stats\")  # need to add the attributes             \n",
    "\n",
    "new_human.display_fantasy_race()\n",
    "#accesing parent attribute\n",
    "new_human.speed\n",
    "#and parent method\n",
    "new_human.display_character()"
   ]
  },
  {
   "cell_type": "markdown",
   "metadata": {},
   "source": [
    "##### The \\__init\\__() Method for a Child Class - super()"
   ]
  },
  {
   "cell_type": "code",
   "execution_count": 8,
   "metadata": {
    "scrolled": true
   },
   "outputs": [
    {
     "name": "stdout",
     "output_type": "stream",
     "text": [
      "My class is a hobbit\n",
      "bilbo ranger {'strength': 10, 'dexterity': 10}\n"
     ]
    }
   ],
   "source": [
    "from random import randint\n",
    "\n",
    "class Hobbit(Fantasy_Character):\n",
    "    #overwriting parent class attribute\n",
    "    speed = 12\n",
    "    size = 'small'\n",
    "\n",
    "    def __init__(self, name, fantasy_class, stats, height):\n",
    "        super().__init__(name, fantasy_class, stats) #super copies what i want from the parent\n",
    "        self.height = height\n",
    "    \n",
    "    def lucky(self):\n",
    "        print('You gain a {randint(1, self.stats[\"dexterity\"])} bonus to your luck roll')\n",
    "        \n",
    "    def display_my_class(self):\n",
    "        print('My class is a hobbit')\n",
    "        \n",
    "bilbo = Hobbit('bilbo', 'ranger', dummy_stats, 4) #we need all the init attributes \n",
    "#showing overwitten attribute\n",
    "bilbo.speed\n",
    "\n",
    "bilbo.display_my_class()\n",
    "bilbo.display_character()"
   ]
  },
  {
   "cell_type": "markdown",
   "metadata": {},
   "source": [
    "##### Defining Attributes and Methods for the Child Class"
   ]
  },
  {
   "cell_type": "code",
   "execution_count": null,
   "metadata": {},
   "outputs": [],
   "source": [
    "# See Above self.height = height"
   ]
  },
  {
   "cell_type": "markdown",
   "metadata": {},
   "source": [
    "##### Method Overriding"
   ]
  },
  {
   "cell_type": "code",
   "execution_count": 11,
   "metadata": {},
   "outputs": [
    {
     "name": "stdout",
     "output_type": "stream",
     "text": [
      "My class is stout hobbit\n"
     ]
    }
   ],
   "source": [
    "#Grandchild class\n",
    "#inherit from our hobbit class which in turn interits from Fantasy\n",
    "\n",
    "class Stout_Hobbit(Hobbit):\n",
    "    \n",
    "    def __init__(self, name, fantasy_class, stats, height, weight): #added weight here and in self.weight\n",
    "        super().__init__(name, fantasy_class, stats, height)\n",
    "        self.weight = weight\n",
    "    def display_my_class(self):\n",
    "        print ('My class is stout hobbit')\n",
    "        \n",
    "sam = Stout_Hobbit('Sam', 'Barbarian', dummy_stats, 4, 200) \n",
    "#look at speed parent attribute, we overwrote to hobbit\n",
    "sam.speed\n",
    "\n",
    "#when we call out display our class, we will get the overwritten not parent\n",
    "\n",
    "sam.display_my_class()"
   ]
  },
  {
   "cell_type": "markdown",
   "metadata": {},
   "source": [
    "## Classes as Attributes <br>\n",
    "<p>Classes can also be used as attributes within another class. This is useful in situations where you need to keep variables locally stored, instead of globally stored.</p>"
   ]
  },
  {
   "cell_type": "code",
   "execution_count": 12,
   "metadata": {},
   "outputs": [],
   "source": [
    "class Stats: # now we have stats as its own class\n",
    "    \n",
    "    def __init__(self, strength=10, dexterity=10, constitution=10, intelligence=10, wisdom=10, charisma=10):\n",
    "        self.strength = strength\n",
    "        self.dexterity = dexterity\n",
    "        self.constitution = constitution\n",
    "        self.intelligence = intelligence\n",
    "        self.wisdom = wisdom\n",
    "        self.charisma = charisma\n",
    "        \n",
    "     def simple_test(self):\n",
    "        print(\"method from obj att\")"
   ]
  },
  {
   "cell_type": "code",
   "execution_count": 14,
   "metadata": {},
   "outputs": [
    {
     "data": {
      "text/plain": [
       "10"
      ]
     },
     "execution_count": 14,
     "metadata": {},
     "output_type": "execute_result"
    }
   ],
   "source": [
    "new_stats = Stats() #could put this or just Stats()\n",
    "\n",
    "new_character = Hobbit('Frodo', 'Dufis', new_stats, 4)\n",
    "#these stats dont have methods\n",
    "new_character.stats.dexterity # answer 10\n",
    "\n",
    "new_character.stats.simple_test()"
   ]
  },
  {
   "cell_type": "markdown",
   "metadata": {},
   "source": [
    "# Exercises"
   ]
  },
  {
   "cell_type": "markdown",
   "metadata": {},
   "source": [
    "### Exercise 1 - Turn the shopping cart program from yesterday into an object-oriented program\n",
    "\n",
    "The comments in the cell below are there as a guide for thinking about the problem. However, if you feel a different way is best for you and your own thought process, please do what feels best for you by all means."
   ]
  },
  {
   "cell_type": "code",
   "execution_count": 18,
   "metadata": {},
   "outputs": [
    {
     "name": "stdout",
     "output_type": "stream",
     "text": [
      "Karina's shopping cart contains:\n",
      "None\n"
     ]
    }
   ],
   "source": [
    "# Create a class called cart that retains items and has methods to add, remove, and show\n",
    "# empty dictionary in global class \n",
    "\n",
    "class Cart():\n",
    "    def __init__(self, name):\n",
    "        self.name = name\n",
    "        self.shopping_list = []\n",
    "        \n",
    "    def add_food(self, food_item):\n",
    "        if input(\"Are you still hungry? Y/N \") == 'yes':\n",
    "            self.shopping_list.append(food_item)\n",
    "            print(f\"{food_item} has been added to your shopping cart.\")    \n",
    "        else:\n",
    "            print(\"No problem, thank you for visiting!\")\n",
    "            \n",
    "    def remove_food(self, food_item):\n",
    "         if food_item in self.shopping_list:\n",
    "            self.shopping_list.remove(food_item)\n",
    "            print(f\"The following {food_item} has been removed from your shopping cart.\")\n",
    "         else:\n",
    "            print(f\"The following {food_item} is not in your shopping cart.\")\n",
    "    def view_cart(self):\n",
    "        print(f\"{self.name}'s shopping cart contains:\")\n",
    "        for item in self.shopping_list:\n",
    "                 print(f\"- {item}\")  \n",
    "                \n",
    "#karina_cart = Cart(\"Karina\")   \n",
    "#print(karina_cart)\n",
    "\n",
    "cart_list = karina_cart.view_cart()\n",
    "print(cart_list)"
   ]
  },
  {
   "cell_type": "markdown",
   "metadata": {},
   "source": [
    "### Exercise 2 - Write a Python class which has two methods get_String and print_String. get_String accept a string from the user and print_String print the string in upper case"
   ]
  },
  {
   "cell_type": "code",
   "execution_count": 8,
   "metadata": {},
   "outputs": [
    {
     "name": "stdout",
     "output_type": "stream",
     "text": [
      "Enter your string here.Hello World\n",
      "HELLO WORLD\n"
     ]
    }
   ],
   "source": [
    "#2 methods: get_String & print_String\n",
    "#get_String accept a string from user\n",
    "#print_String print the string in UPPER case\n",
    "\n",
    "class String:\n",
    "    def __init__(self):\n",
    "        self.string = []\n",
    "            \n",
    "    def get_String(self):\n",
    "        self.string = input(\"Enter your string here.\")    \n",
    "        \n",
    "    def print_String(self):\n",
    "        print(self.string.upper())\n",
    "\n",
    "k = String()\n",
    "k.get_String()\n",
    "k.print_String()"
   ]
  },
  {
   "cell_type": "code",
   "execution_count": null,
   "metadata": {},
   "outputs": [],
   "source": []
  }
 ],
 "metadata": {
  "kernelspec": {
   "display_name": "Python 3 (ipykernel)",
   "language": "python",
   "name": "python3"
  },
  "language_info": {
   "codemirror_mode": {
    "name": "ipython",
    "version": 3
   },
   "file_extension": ".py",
   "mimetype": "text/x-python",
   "name": "python",
   "nbconvert_exporter": "python",
   "pygments_lexer": "ipython3",
   "version": "3.10.9"
  }
 },
 "nbformat": 4,
 "nbformat_minor": 2
}
